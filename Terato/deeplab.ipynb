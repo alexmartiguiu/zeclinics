{
 "cells": [
  {
   "cell_type": "code",
   "execution_count": 20,
   "metadata": {
    "colab": {
     "base_uri": "https://localhost:8080/",
     "height": 556
    },
    "executionInfo": {
     "elapsed": 19062,
     "status": "error",
     "timestamp": 1615362868568,
     "user": {
      "displayName": "Hugo Jiménez Muñoz",
      "photoUrl": "https://lh3.googleusercontent.com/a-/AOh14Gjxme7Ma7RSsu9AZL-dCdJhu_tzjzr3uHZ_SF1E=s64",
      "userId": "17934934566718487075"
     },
     "user_tz": -60
    },
    "id": "ugUlbf2aAflu",
    "outputId": "9171ee17-5543-4a3a-b016-72b514204df6"
   },
   "outputs": [],
   "source": [
    "from pathlib import Path\n",
    "import os\n",
    "import click\n",
    "import sklearn.metrics\n",
    "from torch.utils import data\n",
    "import torch\n",
    "\n",
    "import datahandler\n",
    "from model import createDeepLabv3\n",
    "from trainer import train_model"
   ]
  },
  {
   "cell_type": "code",
   "execution_count": 21,
   "metadata": {
    "id": "lA_O2W-RXUZ4"
   },
   "outputs": [],
   "source": [
    "'''\n",
    "\n",
    "This first part of the code is responsible to define where data is found and\n",
    "where the model is going to be saved. In order to do that a main data directory\n",
    "must be declared. Inside the this directory an image folder must exists with \n",
    "all the raw images and the folders with the different masks containg the masks\n",
    "with the exact same name of their corresponding original image:\n",
    "\n",
    "                     ___________data_path _____________\n",
    "                    /               |                  \\\n",
    "             Image_folder      Mask1_folder  ...  Maskn_folder\n",
    "                  |                 |                  |\n",
    "              img1.png          img1.png           img1.png\n",
    "                  .                 .                  .\n",
    "                  .                 .                  .\n",
    "                  .                 .                  .\n",
    "              imgk.png          imgk.png           imgk.png\n",
    "\n",
    "\n",
    "'''\n",
    "\n",
    "data_path = '../Data'\n",
    "\n",
    "# Define images_path and masks paths from data_path\n",
    "images_path = 'Image'\n",
    "masks_paths = ['Eyes_dorsal', 'Outline_lateral', 'Yolk_lateral', 'Heart_lateral', 'Outline_dorsal', 'Ov_lateral']\n",
    "\n",
    "# Path from current path to save the generated model\n",
    "exp_directory = './Model2'\n",
    "exp_directory = Path(exp_directory)\n",
    "if not exp_directory.exists():\n",
    "    exp_directory.mkdir()"
   ]
  },
  {
   "cell_type": "code",
   "execution_count": 22,
   "metadata": {},
   "outputs": [
    {
     "name": "stdout",
     "output_type": "stream",
     "text": [
      "Epoch 1/1\n",
      "----------\n"
     ]
    },
    {
     "name": "stderr",
     "output_type": "stream",
     "text": [
      "  0%|          | 0/4452 [00:00<?, ?it/s]\n"
     ]
    },
    {
     "ename": "KeyError",
     "evalue": "'mask'",
     "output_type": "error",
     "traceback": [
      "\u001b[0;31m---------------------------------------------------------------------------\u001b[0m",
      "\u001b[0;31mKeyError\u001b[0m                                  Traceback (most recent call last)",
      "\u001b[0;32m<ipython-input-22-44d605f2f2d3>\u001b[0m in \u001b[0;36m<module>\u001b[0;34m()\u001b[0m\n\u001b[1;32m     26\u001b[0m                 \u001b[0mbpath\u001b[0m\u001b[0;34m=\u001b[0m\u001b[0mexp_directory\u001b[0m\u001b[0;34m,\u001b[0m\u001b[0;34m\u001b[0m\u001b[0;34m\u001b[0m\u001b[0m\n\u001b[1;32m     27\u001b[0m                 \u001b[0mmetrics\u001b[0m\u001b[0;34m=\u001b[0m\u001b[0mmetrics\u001b[0m\u001b[0;34m,\u001b[0m\u001b[0;34m\u001b[0m\u001b[0;34m\u001b[0m\u001b[0m\n\u001b[0;32m---> 28\u001b[0;31m                 num_epochs=1)\n\u001b[0m\u001b[1;32m     29\u001b[0m \u001b[0;34m\u001b[0m\u001b[0m\n\u001b[1;32m     30\u001b[0m \u001b[0;31m#######################################################################################\u001b[0m\u001b[0;34m\u001b[0m\u001b[0;34m\u001b[0m\u001b[0;34m\u001b[0m\u001b[0m\n",
      "\u001b[0;32m/veu4/usuaris27/zeclinics2/Terato/trainer.py\u001b[0m in \u001b[0;36mtrain_model\u001b[0;34m(model, criterion, dataloaders, optimizer, metrics, bpath, num_epochs)\u001b[0m\n\u001b[1;32m     41\u001b[0m             \u001b[0;32mfor\u001b[0m \u001b[0msample\u001b[0m \u001b[0;32min\u001b[0m \u001b[0mtqdm\u001b[0m\u001b[0;34m(\u001b[0m\u001b[0miter\u001b[0m\u001b[0;34m(\u001b[0m\u001b[0mdataloaders\u001b[0m\u001b[0;34m[\u001b[0m\u001b[0mphase\u001b[0m\u001b[0;34m]\u001b[0m\u001b[0;34m)\u001b[0m\u001b[0;34m)\u001b[0m\u001b[0;34m:\u001b[0m\u001b[0;34m\u001b[0m\u001b[0;34m\u001b[0m\u001b[0m\n\u001b[1;32m     42\u001b[0m                 \u001b[0minputs\u001b[0m \u001b[0;34m=\u001b[0m \u001b[0msample\u001b[0m\u001b[0;34m[\u001b[0m\u001b[0;34m'image'\u001b[0m\u001b[0;34m]\u001b[0m\u001b[0;34m.\u001b[0m\u001b[0mto\u001b[0m\u001b[0;34m(\u001b[0m\u001b[0mdevice\u001b[0m\u001b[0;34m)\u001b[0m\u001b[0;34m\u001b[0m\u001b[0;34m\u001b[0m\u001b[0m\n\u001b[0;32m---> 43\u001b[0;31m                 \u001b[0mmasks\u001b[0m \u001b[0;34m=\u001b[0m \u001b[0msample\u001b[0m\u001b[0;34m[\u001b[0m\u001b[0;34m'masks'\u001b[0m\u001b[0;34m]\u001b[0m\u001b[0;34m.\u001b[0m\u001b[0mto\u001b[0m\u001b[0;34m(\u001b[0m\u001b[0mdevice\u001b[0m\u001b[0;34m)\u001b[0m\u001b[0;34m\u001b[0m\u001b[0;34m\u001b[0m\u001b[0m\n\u001b[0m\u001b[1;32m     44\u001b[0m \u001b[0;34m\u001b[0m\u001b[0m\n\u001b[1;32m     45\u001b[0m                 \u001b[0;31m# zero the parameter gradients\u001b[0m\u001b[0;34m\u001b[0m\u001b[0;34m\u001b[0m\u001b[0;34m\u001b[0m\u001b[0m\n",
      "\u001b[0;31mKeyError\u001b[0m: 'mask'"
     ]
    }
   ],
   "source": [
    "\n",
    "################################### Model creation ###################################\n",
    "\n",
    "\n",
    "    \n",
    "model = createDeepLabv3()  # Model creation\n",
    "criterion = torch.nn.MSELoss(reduction='mean') # Specify the loss function\n",
    "optimizer = torch.optim.Adam(model.parameters(), lr=1e-4) # Specify the optimizer \n",
    "                                                          # with a low learning rate\n",
    "\n",
    "# Specify the evaluation metrics\n",
    "metrics = {'f1_score': sklearn.metrics.f1_score, \n",
    "           'auroc': sklearn.metrics.roc_auc_score,\n",
    "           'accuracy_score': sklearn.metrics.accuracy_score}\n",
    "# Ceation of the data loaders ['Train', 'Test']\n",
    "dataloaders = datahandler.get_dataloader_single_folder(data_path,\n",
    "                                                       images_path,\n",
    "                                                       masks_paths, \n",
    "                                                       batch_size=2)\n",
    "\n",
    "# Train the model\n",
    "_ = train_model(model,\n",
    "                criterion,\n",
    "                dataloaders,\n",
    "                optimizer,\n",
    "                bpath=exp_directory,\n",
    "                metrics=metrics,\n",
    "                num_epochs=1)\n",
    "\n",
    "#######################################################################################"
   ]
  },
  {
   "cell_type": "code",
   "execution_count": null,
   "metadata": {
    "id": "YJzLFRdMXoEK"
   },
   "outputs": [],
   "source": [
    "torch.save(model, exp_directory / 'weights.pt')"
   ]
  },
  {
   "cell_type": "code",
   "execution_count": null,
   "metadata": {
    "id": "yos230a2f0UL"
   },
   "outputs": [],
   "source": []
  },
  {
   "cell_type": "code",
   "execution_count": 4,
   "metadata": {
    "id": "K027NUkppaZj"
   },
   "outputs": [
    {
     "data": {
      "text/plain": [
       "['Eyes_dorsal', 'Image', 'Yolk_lateral', 'Heart_lateral', 'Outline_dorsal']"
      ]
     },
     "execution_count": 4,
     "metadata": {},
     "output_type": "execute_result"
    }
   ],
   "source": []
  },
  {
   "cell_type": "code",
   "execution_count": null,
   "metadata": {
    "id": "r8mUgVhrhLf5"
   },
   "outputs": [],
   "source": [
    "\n"
   ]
  }
 ],
 "metadata": {
  "accelerator": "GPU",
  "colab": {
   "collapsed_sections": [],
   "name": "deeplab.ipynb",
   "provenance": []
  },
  "kernelspec": {
   "display_name": "Python 3",
   "language": "python",
   "name": "python3"
  },
  "language_info": {
   "codemirror_mode": {
    "name": "ipython",
    "version": 3
   },
   "file_extension": ".py",
   "mimetype": "text/x-python",
   "name": "python",
   "nbconvert_exporter": "python",
   "pygments_lexer": "ipython3",
   "version": "3.6.9"
  }
 },
 "nbformat": 4,
 "nbformat_minor": 1
}
