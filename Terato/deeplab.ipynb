{
 "cells": [
  {
   "cell_type": "code",
   "execution_count": 18,
   "metadata": {
    "colab": {
     "base_uri": "https://localhost:8080/",
     "height": 556
    },
    "executionInfo": {
     "elapsed": 19062,
     "status": "error",
     "timestamp": 1615362868568,
     "user": {
      "displayName": "Hugo Jiménez Muñoz",
      "photoUrl": "https://lh3.googleusercontent.com/a-/AOh14Gjxme7Ma7RSsu9AZL-dCdJhu_tzjzr3uHZ_SF1E=s64",
      "userId": "17934934566718487075"
     },
     "user_tz": -60
    },
    "id": "ugUlbf2aAflu",
    "outputId": "9171ee17-5543-4a3a-b016-72b514204df6"
   },
   "outputs": [],
   "source": [
    "from pathlib import Path\n",
    "import os\n",
    "import click\n",
    "import sklearn.metrics\n",
    "from torch.utils import data\n",
    "import torch\n",
    "\n",
    "import datahandler\n",
    "from model import createDeepLabv3\n",
    "from trainer import train_model"
   ]
  },
  {
   "cell_type": "code",
   "execution_count": 16,
   "metadata": {
    "id": "lA_O2W-RXUZ4"
   },
   "outputs": [],
   "source": [
    "'''\n",
    "\n",
    "This first part of the code is responsible to define where data is found and\n",
    "where the model is going to be saved. In order to do that a main data directory\n",
    "must be declared. Inside the this directory an image folder must exists with \n",
    "all the raw images and the folders with the different masks containg the masks\n",
    "with the exact same name of their corresponding original image:\n",
    "\n",
    "                     ___________data_path _____________\n",
    "                    /               |                  \\\n",
    "             Image_folder      Mask1_folder  ...  Maskn_folder\n",
    "                  |                 |                  |\n",
    "              img1.png          img1.png           img1.png\n",
    "                  .                 .                  .\n",
    "                  .                 .                  .\n",
    "                  .                 .                  .\n",
    "              imgk.png          imgk.png           imgk.png\n",
    "\n",
    "\n",
    "'''\n",
    "\n",
    "data_path = '../Data'\n",
    "\n",
    "# Define images_path and masks paths from data_path\n",
    "images_path = 'Image'\n",
    "masks_paths = ['Eyes_dorsal', 'Outline_lateral', 'Yolk_lateral', 'Heart_lateral', 'Outline_dorsal', 'Ov_lateral']\n",
    "\n",
    "# Path from current path to save the generated model\n",
    "exp_directory = './Model2'\n",
    "exp_directory = Path(exp_directory)\n",
    "if not exp_directory.exists():\n",
    "    exp_directory.mkdir()"
   ]
  },
  {
   "cell_type": "code",
   "execution_count": 17,
   "metadata": {},
   "outputs": [
    {
     "ename": "NameError",
     "evalue": "name 'accuracy_score' is not defined",
     "output_type": "error",
     "traceback": [
      "\u001b[0;31m---------------------------------------------------------------------------\u001b[0m",
      "\u001b[0;31mNameError\u001b[0m                                 Traceback (most recent call last)",
      "\u001b[0;32m<ipython-input-17-e32b89f74590>\u001b[0m in \u001b[0;36m<module>\u001b[0;34m()\u001b[0m\n\u001b[1;32m     10\u001b[0m \u001b[0;34m\u001b[0m\u001b[0m\n\u001b[1;32m     11\u001b[0m \u001b[0;31m# Specify the evaluation metrics\u001b[0m\u001b[0;34m\u001b[0m\u001b[0;34m\u001b[0m\u001b[0;34m\u001b[0m\u001b[0m\n\u001b[0;32m---> 12\u001b[0;31m \u001b[0mmetrics\u001b[0m \u001b[0;34m=\u001b[0m \u001b[0;34m{\u001b[0m\u001b[0;34m'f1_score'\u001b[0m\u001b[0;34m:\u001b[0m \u001b[0mf1_score\u001b[0m\u001b[0;34m,\u001b[0m \u001b[0;34m'auroc'\u001b[0m\u001b[0;34m:\u001b[0m \u001b[0mroc_auc_score\u001b[0m\u001b[0;34m,\u001b[0m \u001b[0;34m'accuracy_score'\u001b[0m\u001b[0;34m:\u001b[0m \u001b[0maccuracy_score\u001b[0m\u001b[0;34m}\u001b[0m\u001b[0;34m\u001b[0m\u001b[0;34m\u001b[0m\u001b[0m\n\u001b[0m\u001b[1;32m     13\u001b[0m \u001b[0;31m# Ceation of the data loaders ['Train', 'Test']\u001b[0m\u001b[0;34m\u001b[0m\u001b[0;34m\u001b[0m\u001b[0;34m\u001b[0m\u001b[0m\n\u001b[1;32m     14\u001b[0m dataloaders = datahandler.get_dataloader_single_folder(data_directory,\n",
      "\u001b[0;31mNameError\u001b[0m: name 'accuracy_score' is not defined"
     ]
    }
   ],
   "source": [
    "\n",
    "################################### Model creation ###################################\n",
    "\n",
    "\n",
    "    \n",
    "model = createDeepLabv3()  # Model creation\n",
    "criterion = torch.nn.MSELoss(reduction='mean') # Specify the loss function\n",
    "optimizer = torch.optim.Adam(model.parameters(), lr=1e-4) # Specify the optimizer \n",
    "                                                          # with a low learning rate\n",
    "\n",
    "# Specify the evaluation metrics\n",
    "metrics = {'f1_score': sklearn.metricsf1_score, 'auroc': roc_auc_score, 'accuracy_score': accuracy_score}\n",
    "# Ceation of the data loaders ['Train', 'Test']\n",
    "dataloaders = datahandler.get_dataloader_single_folder(data_path,\n",
    "                                                       images_path,\n",
    "                                                       masks_paths, \n",
    "                                                       batch_size=2)\n",
    "\n",
    "# Train the model\n",
    "_ = train_model(model,\n",
    "                criterion,\n",
    "                dataloaders,\n",
    "                optimizer,\n",
    "                bpath=exp_directory,\n",
    "                metrics=metrics,\n",
    "                num_epochs=1)\n",
    "\n",
    "#######################################################################################"
   ]
  },
  {
   "cell_type": "code",
   "execution_count": null,
   "metadata": {
    "id": "YJzLFRdMXoEK"
   },
   "outputs": [],
   "source": [
    "torch.save(model, exp_directory / 'weights.pt')"
   ]
  },
  {
   "cell_type": "code",
   "execution_count": null,
   "metadata": {
    "id": "yos230a2f0UL"
   },
   "outputs": [],
   "source": []
  },
  {
   "cell_type": "code",
   "execution_count": 4,
   "metadata": {
    "id": "K027NUkppaZj"
   },
   "outputs": [
    {
     "data": {
      "text/plain": [
       "['Eyes_dorsal', 'Image', 'Yolk_lateral', 'Heart_lateral', 'Outline_dorsal']"
      ]
     },
     "execution_count": 4,
     "metadata": {},
     "output_type": "execute_result"
    }
   ],
   "source": []
  },
  {
   "cell_type": "code",
   "execution_count": null,
   "metadata": {
    "id": "r8mUgVhrhLf5"
   },
   "outputs": [],
   "source": [
    "\n"
   ]
  }
 ],
 "metadata": {
  "accelerator": "GPU",
  "colab": {
   "collapsed_sections": [],
   "name": "deeplab.ipynb",
   "provenance": []
  },
  "kernelspec": {
   "display_name": "Python 3",
   "language": "python",
   "name": "python3"
  },
  "language_info": {
   "codemirror_mode": {
    "name": "ipython",
    "version": 3
   },
   "file_extension": ".py",
   "mimetype": "text/x-python",
   "name": "python",
   "nbconvert_exporter": "python",
   "pygments_lexer": "ipython3",
   "version": "3.6.9"
  }
 },
 "nbformat": 4,
 "nbformat_minor": 1
}
